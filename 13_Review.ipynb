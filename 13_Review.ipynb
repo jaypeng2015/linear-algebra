{
 "cells": [
  {
   "cell_type": "markdown",
   "metadata": {},
   "source": [
    "## Practice 1\n",
    "\n",
    "Suppose u, v and w are nonzero vectors in R<sup>7</sup>, what are the possible dimensions of the subspace spaned by u, v and w.\n",
    "\n",
    "Answer: 1, 2 or 3."
   ]
  },
  {
   "cell_type": "markdown",
   "metadata": {},
   "source": [
    "## Practice 2\n",
    "\n",
    "Suppose U is a 5 by 3 uppertriangluar matrix with rank 3\n",
    "\n",
    "### Question 1\n",
    "\n",
    "what's the null space of U?\n",
    "\n",
    "Answer: N(U) is the zero vector [0,0,0]<sup>T</sup>\n",
    "\n",
    "### Question 2: \n",
    "Given\n",
    "\\begin{equation}B= \\begin{vmatrix}U\\\\2U\\end{vmatrix}\n",
    "\\end{equation}\n",
    "What's the echelon form of B? And what is the rank of C?\n",
    "\n",
    "Answer: \n",
    "\\begin{equation}echelon form= \\begin{vmatrix}U\\\\0\\end{vmatrix}\n",
    "\\end{equation}\n",
    "\n",
    "Rank = 3\n",
    "\n",
    "\n",
    "### Question 3\n",
    "Given\n",
    "\\begin{equation}C= \\begin{vmatrix}U&U\\\\U&0\\end{vmatrix}\n",
    "\\end{equation}\n",
    "What's the echelon form of C? And what is the rank of C?\n",
    "\n",
    "Answer: \n",
    "\\begin{equation}echelon form= \\begin{vmatrix}U&U\\\\0&-U\\end{vmatrix}\n",
    "\\end{equation}\n",
    "\n",
    "Rank = 6\n",
    "\n",
    "### Question 4\n",
    "What's the dimension of N(C<sup>T</sup>)?\n",
    "\n",
    "Answer: C is 10 by 6, so m = 10, so dim(N(C<sup>T</sup>)) is m-r=4."
   ]
  },
  {
   "cell_type": "markdown",
   "metadata": {},
   "source": [
    "## Practice 3\n",
    "\n",
    "Given\n",
    "\\begin{equation}Ax=\\begin{vmatrix}2\\\\4\\\\2\\end{vmatrix}\\end{equation}\n",
    "And\n",
    "\\begin{equation}x=\\begin{vmatrix}2\\\\0\\\\0\\end{vmatrix}\n",
    "+c\\begin{vmatrix}1\\\\1\\\\0\\end{vmatrix}+d\\begin{vmatrix}0\\\\0\\\\1\\end{vmatrix}\n",
    "\\end{equation}\n",
    "\n",
    "### Question 1\n",
    "\n",
    "What's the dimension of the row space of A.\n",
    "\n",
    "Answer: A is 3 by 3, dim N(A) =2, so n-r = 2, which means the rank of A is 1 and the dimension of the row space of A is 1.\n",
    "\n",
    "### Question 2\n",
    "What is A?\n",
    "\n",
    "Answer:\n",
    "\\begin{equation}A=\\begin{vmatrix}1&-1&0\\\\2&-2&0\\\\1&-1&0\\end{vmatrix}\\\n",
    "\\end{equation}\n",
    "\n",
    "### Question 3\n",
    "When Ax=b can be solved?\n",
    "\n",
    "Answer:\n",
    "\\begin{equation}b=c\\begin{vmatrix}1\\\\2\\\\1\\end{vmatrix}\\\n",
    "\\end{equation}"
   ]
  },
  {
   "cell_type": "markdown",
   "metadata": {},
   "source": [
    "## Practice 4\n",
    "\n",
    "### Question 1\n",
    "If N(A) is only the zero vector, and A is a square, what about N(A<sup>T</sup>)?\n",
    "\n",
    "Answer: also the zero vector.\n",
    "\n",
    "### Question 2\n",
    "Look at the space of all 5 by 5 matrices as a vector space. Do all the invertable ones span a subspace?\n",
    "\n",
    "Answer: No.\n",
    "\n",
    "### Question 3\n",
    "If B square equals 0, then B is 0. True or false?\n",
    "\n",
    "Answer: false.\n",
    "\n",
    "\\begin{vmatrix}0&1\\\\0&0\\end{vmatrix}\n",
    "\n",
    "### Question 4\n",
    "Given n by n matrix A, all columns are independent, does Ax=b always solvable?\n",
    "\n",
    "Answer: Yes."
   ]
  },
  {
   "cell_type": "markdown",
   "metadata": {},
   "source": [
    "## Practice 5\n",
    "\n",
    "\\begin{equation}\n",
    "B=\\begin{vmatrix}1&1&0\\\\0&1&0\\\\1&0&1\\end{vmatrix}\n",
    "\\begin{vmatrix}1&0&-1&2\\\\0&1&1&-1\\\\0&0&0&0\\end{vmatrix}\n",
    "\\end{equation}\n",
    "\n",
    "Anwser the following questions without doing the multiplication.\n",
    "\n",
    "### Question 1\n",
    "What's the null space of B?\n",
    "\n",
    "Anwser:\n",
    "\n",
    "Since the first matrix is invertible, you can multiply it's inverse to the left to get I, and the right hand side of Bx=0 is still 0, so the null space of B is actually the same as the null space of the second matrix.\n",
    "\n",
    "So the basis of N(B) is:\n",
    "\n",
    "\\begin{align}\n",
    "\\begin{vmatrix}1\\\\-1\\\\1\\\\0\\end{vmatrix}, \\begin{vmatrix}-2\\\\1\\\\0\\\\1\\end{vmatrix}\n",
    "\\end{align}"
   ]
  },
  {
   "cell_type": "markdown",
   "metadata": {},
   "source": [
    "### Question 2\n",
    "\n",
    "Solve\n",
    "\\begin{equation}\n",
    "Bx=\\begin{vmatrix}1\\\\0\\\\1\\end{vmatrix}\n",
    "\\end{equation}\n",
    "\n",
    "Anwser:\n",
    "\n",
    "\\begin{equation}\n",
    "x_p + x_n =\\begin{vmatrix}1\\\\0\\\\0\\\\0\\end{vmatrix} + c\\begin{vmatrix}1\\\\-1\\\\1\\\\0\\end{vmatrix} + d\\begin{vmatrix}-2\\\\1\\\\0\\\\1\\end{vmatrix}\n",
    "\\end{equation}"
   ]
  },
  {
   "cell_type": "markdown",
   "metadata": {},
   "source": [
    "## Practice 6\n",
    "\n",
    "True or False?\n",
    "\n",
    "### Question 1\n",
    "If n = m, then the row space equals the column space.\n",
    "\n",
    "Anwser: False.\n",
    "\n",
    "### Question 2\n",
    "Matrix A and -A share the same 4 subspaces.\n",
    "\n",
    "Anwser: True. \n",
    "\n",
    "### Question 3\n",
    "If matrix A and B have the same 4 subspaces, then A is some multiple of B.\n",
    "\n",
    "Anwser: False.\n",
    "Example: A and B can by any invertible 6x6 matrix.\n",
    "\n"
   ]
  },
  {
   "cell_type": "markdown",
   "metadata": {},
   "source": [
    "## Practice 7\n",
    "\n",
    "If change two rows of a matrix A, which subspaces stay the same?\n",
    "\n",
    "Anwser: row space and null space."
   ]
  },
  {
   "cell_type": "markdown",
   "metadata": {},
   "source": [
    "## Practice 8\n",
    "\n",
    "Why cannot vector (1, 2, 3) be in both the null space and be a row of a matrix?\n",
    "\n",
    "So if \\begin{equation}\n",
    "Av=A\\begin{vmatrix}1\\\\2\\\\3\\end{vmatrix}=\\begin{vmatrix}0\\\\0\\\\0\\end{vmatrix}\n",
    "\\end{equation}\n",
    "\n",
    "Then v can not be a row of A.\n",
    "\n",
    "Anwser: It's easiy to see the answer if v is a row of A, then a component of Av will be 14, not 0.\n",
    "\n",
    "Actually the null space and the row space only share the 0 vector."
   ]
  },
  {
   "cell_type": "code",
   "execution_count": null,
   "metadata": {},
   "outputs": [],
   "source": []
  }
 ],
 "metadata": {
  "kernelspec": {
   "display_name": "Python 3",
   "language": "python",
   "name": "python3"
  },
  "language_info": {
   "codemirror_mode": {
    "name": "ipython",
    "version": 3
   },
   "file_extension": ".py",
   "mimetype": "text/x-python",
   "name": "python",
   "nbconvert_exporter": "python",
   "pygments_lexer": "ipython3",
   "version": "3.6.4"
  }
 },
 "nbformat": 4,
 "nbformat_minor": 2
}
