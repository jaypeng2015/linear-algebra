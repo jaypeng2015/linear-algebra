{
 "cells": [
  {
   "cell_type": "markdown",
   "metadata": {},
   "source": [
    "# Thinking out of box\n",
    "\n",
    "Anything can be vectors if you can add them, multiply them by scalars, or in other words, do linear combinations."
   ]
  },
  {
   "cell_type": "markdown",
   "metadata": {},
   "source": [
    "## Matrix Space\n",
    "\n",
    "Say `matrices` are actually `vectors`, because they also obey the rules.\n",
    "You can add a matrix to another, or multiply them by scalars.\n",
    "\n",
    "Example:\n",
    "\n",
    "M =  all  3 by 3 matrices\n",
    "\n",
    "dim(M) = 9\n",
    "\n",
    "Subspaces: \n",
    "\n",
    "Symmetric (3*3), dim(S) = 6\n",
    "\n",
    "Upper Triangular (3*3), dim(U) = 6"
   ]
  },
  {
   "cell_type": "markdown",
   "metadata": {},
   "source": [
    "### Basis of M\n",
    "\n",
    "\\begin{equation*}\n",
    "\\begin{vmatrix}1 & 0 & 0 \\\\0 & 0 & 0 \\\\0 & 0 & 0 \\end{vmatrix}\n",
    "\\begin{vmatrix} 0 & 1 & 0 \\\\0 & 0 & 0 \\\\0 & 0 & 0 \\end{vmatrix}\n",
    "\\begin{vmatrix} 0 & 0 & 1 \\\\0 & 0 & 0 \\\\0 & 0 & 0 \\end{vmatrix}\n",
    "...\n",
    "\\begin{vmatrix} 0 & 0 & 0 \\\\0 & 0 & 0 \\\\0 & 0 & 1 \\end{vmatrix}\n",
    "\\end{equation*}"
   ]
  },
  {
   "cell_type": "markdown",
   "metadata": {},
   "source": [
    "### S & U\n",
    "\n",
    "The diagonal 3*3's. The dimention is 3."
   ]
  },
  {
   "cell_type": "markdown",
   "metadata": {},
   "source": [
    "### S + U\n",
    "\n",
    "Any element of S + Any element of U.\n",
    "\n",
    "And this is actually M, all 3*3's."
   ]
  },
  {
   "cell_type": "markdown",
   "metadata": {},
   "source": [
    "### What we see here is dim(S) + dim(U) = dim(S & U) + dim(S+U)"
   ]
  },
  {
   "cell_type": "markdown",
   "metadata": {},
   "source": [
    "## Example: Solution Space\n",
    "\n",
    "From this example we can see linear algebra is not only for matrices.\n",
    "\n",
    "The linear differential equation:\n",
    "\n",
    "\\begin{equation*}\\frac{d^2y}{dx^2} + y = 0\\end{equation*}\n",
    "\n",
    "Special solutions:\n",
    "\n",
    " - y = cos x \n",
    " - y = sin x\n",
    " \n",
    "Complete solutions:\n",
    "\n",
    "   \\begin{equation*} y = c_1cos x + c_2sin x\\end{equation*}\n",
    "   \n",
    "This does look like the basis [cos x, sin x] span the solution space, which has dimention 2.\n",
    "\n",
    "The point here is that cosx, sinx don't look like vectors, but we can also call the vectors because they obey the rules."
   ]
  },
  {
   "cell_type": "markdown",
   "metadata": {},
   "source": [
    "# Rank One Matrices"
   ]
  },
  {
   "cell_type": "markdown",
   "metadata": {},
   "source": [
    "## Example\n",
    "\\begin{equation}\n",
    "A = \\begin{vmatrix}1 & 4 & 5 \\\\2 & 8 & 10  \\end{vmatrix} = \\begin{vmatrix}1 \\\\ 2 \\end{vmatrix}\\begin{vmatrix}1 & 4 & 5  \\end{vmatrix}\n",
    "\\end{equation}"
   ]
  },
  {
   "cell_type": "markdown",
   "metadata": {},
   "source": [
    "## Quiz 1\n",
    "\n",
    "Say M = all 5 * 17 matrices, and a subset of all rank 4 matrices, is the subset a subspace of M?\n",
    "\n",
    "The answer is no."
   ]
  },
  {
   "cell_type": "markdown",
   "metadata": {},
   "source": [
    "## Quiz 2\n",
    "In a R<sup>4</sup> space, say v = [v<sub>1</sub>, v<sub>2</sub>, v<sub>3</sub>, v<sub>4</sub>]<sup>T</sup>, and space S is all the v in R<sup>4</sup> with v<sub>1</sub> + v<sub>2</sub> + v<sub>3</sub> + v<sub>4</sub> = 0? Is S a subspace of R<sup>4</sup>?\n",
    "\n",
    "The answer is yes. Because we can rewrite this as:\n",
    "\n",
    "\\begin{equation}\n",
    "AV = \\begin{vmatrix} 1 & 1 & 1 & 1\\end{vmatrix}\\begin{vmatrix}v_1\\\\v_2\\\\v_3\\\\v_4\\end{vmatrix} = 0\n",
    "\\end{equation}\n",
    "\n",
    "And S is the null space of A. So the dimention of this space is (n-r) which is 3.\n",
    "\n",
    "### The basis of N(A)\n",
    "\n",
    "It's easy to see the rank is 1, so the first `1` is the pivot variable, give `1` to one of the free variables, and `0` to others to get special solutions, then we get one of the basis.\n",
    "\\begin{equation}\n",
    "\\begin{vmatrix} -1 \\\\ 1 \\\\ 0 \\\\ 0\\end{vmatrix}, \\begin{vmatrix} -1 \\\\ 0 \\\\ 1 \\\\ 0\\end{vmatrix}, \\begin{vmatrix} -1 \\\\ 0 \\\\ 0 \\\\ 1\\end{vmatrix}\n",
    "\\end{equation}\n",
    "\n",
    "Dimention: 3.\n",
    "\n",
    "### The basis of: C(A)\n",
    "\n",
    "C(A) is R<sup>1</sup>, so one the basis is [1].\n",
    "\n",
    "Dimention: 1.\n",
    "\n",
    "### The basis of: C(A<sup>T</sup>)\n",
    "\n",
    "It's also R<sup>1</sup>, so one the basis is [1]\n",
    "\n",
    "Dimention: 1.\n",
    "\n",
    "### The basis of: N(A<sup>T</sup>)\n",
    "\n",
    "N(A<sup>T</sup>) is the 0 vecctor and there's no basis.\n",
    "\n",
    "Dimention: 0.\n",
    "\n",
    "\n",
    "\n"
   ]
  },
  {
   "cell_type": "markdown",
   "metadata": {},
   "source": [
    "## Small World Graph\n",
    "\n",
    "What is a graph? So graph is {nodes, edges}.\n",
    "\n",
    "Say peoples are nodes, and if one known another, there's an edge and distance is 1.\n",
    "\n",
    "What will be the largest distance between two people?\n"
   ]
  },
  {
   "cell_type": "code",
   "execution_count": null,
   "metadata": {},
   "outputs": [],
   "source": []
  }
 ],
 "metadata": {
  "kernelspec": {
   "display_name": "Python 3",
   "language": "python",
   "name": "python3"
  },
  "language_info": {
   "codemirror_mode": {
    "name": "ipython",
    "version": 3
   },
   "file_extension": ".py",
   "mimetype": "text/x-python",
   "name": "python",
   "nbconvert_exporter": "python",
   "pygments_lexer": "ipython3",
   "version": "3.6.4"
  }
 },
 "nbformat": 4,
 "nbformat_minor": 2
}
