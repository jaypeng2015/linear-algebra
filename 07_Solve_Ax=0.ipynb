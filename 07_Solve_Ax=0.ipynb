{
 "cells": [
  {
   "cell_type": "markdown",
   "metadata": {},
   "source": [
    "# Solve Ax=0\n",
    "\n",
    "- Computing the null space (AX=0)\n",
    "- Pivot variables - free variables\n",
    "- Special solutions\n",
    "- rref(A)=R"
   ]
  },
  {
   "cell_type": "markdown",
   "metadata": {},
   "source": [
    "## The algorithm \n",
    "\\begin{equation}A=\n",
    "\\begin{vmatrix}1&2&2&2\\\\1&4&6&8\\\\3&6&8&10\n",
    "\\end{vmatrix}\n",
    "\\end{equation}\n",
    "\n",
    "Elimination:\n",
    "\\begin{align}\n",
    "\\begin{vmatrix}①&2&2&2\\\\0&0&②&4\\\\0&0&2&4\n",
    "\\end{vmatrix}\n",
    "\\end{align}\n",
    "\n",
    "Continue:\n",
    "\n",
    "\\begin{equation}\n",
    "\\begin{vmatrix}①&2&2&2\\\\0&0&②&4\\\\0&0&0&0\n",
    "\\end{vmatrix}=U\n",
    "\\end{equation}\n",
    "\n",
    "The number of pivots is 2 is called the `rank` of matrix A."
   ]
  },
  {
   "cell_type": "markdown",
   "metadata": {},
   "source": [
    "There are 2 pivot columns and the other 2 are called `free` columns, because you can assign any thing to the component x<sub>n</sub> which multiplies that column, the x<sub>n</sub> is called `free variable`. The components that multiply the pivot columns are called `pivot variable`.\n",
    "\n",
    "\n",
    "The equations are:\n",
    "\n",
    "\\begin{equation}x_1+2x_2+2x_3+2x_4=0\\end{equation}\n",
    "\\begin{equation}2x_3+4x_4=0\\end{equation}\n",
    "\n",
    "Then if we give the free variableS x<sub>1</sub>=1 and x<sub>4</sub>=0, then we can get one solution from back substitution:\n",
    "\n",
    "\\begin{align}\\begin{vmatrix}-2\\\\1\\\\0\\\\0\\end{vmatrix}\\end{align}\n",
    "\n",
    "Then we can pick another x<sub>1</sub>=0 and x<sub>4</sub>=1,  then we get another solution:\n",
    "\n",
    "\\begin{align}\\begin{vmatrix}2\\\\0\\\\-2\\\\1\\end{vmatrix}\\end{align}\n",
    "\n",
    "These 2 solutions are called `special solutions`, and we can get all the solutions:\n",
    "\n",
    "\\begin{equation}x=c\\begin{vmatrix}-2\\\\1\\\\0\\\\0\\end{vmatrix}+d\\begin{vmatrix}2\\\\0\\\\-2\\\\1\\end{vmatrix}\\end{equation}\n",
    "\n",
    "It's the combination of the special solutions."
   ]
  },
  {
   "cell_type": "markdown",
   "metadata": {},
   "source": [
    "### Conclusion\n",
    "\n",
    "For a matrix m by n:\n",
    " - the number of pivot viariables is the rank r\n",
    " - the number of free variables is n - r, and we can get (n - r) special solutions\n",
    " - the solution the the combination of all the special solutions"
   ]
  },
  {
   "cell_type": "markdown",
   "metadata": {},
   "source": [
    "## R - reduced row echelon form\n",
    "\n",
    "R has 0s above and below the pivot.\n",
    "\n",
    "From the U above we can get:\n",
    "\n",
    "\\begin{equation}\n",
    "R=\\begin{vmatrix}①&2&0&-2\\\\0&0&②&4\\\\0&0&0&0\n",
    "\\end{vmatrix}\n",
    "\\end{equation}\n",
    "\n",
    "And we can change the pivot to 1:\n",
    "\n",
    "\\begin{equation}\n",
    "R=\\begin{vmatrix}①&2&0&-2\\\\0&0&①&2\\\\0&0&0&0\n",
    "\\end{vmatrix}=rref(A)\n",
    "\\end{equation}\n",
    "\n",
    "Notice, the I is in the pivot columns/rows."
   ]
  },
  {
   "cell_type": "markdown",
   "metadata": {},
   "source": [
    "The equations are now Rx=0:\n",
    "    \n",
    "\\begin{equation}x_1+2x_2-2x_4=0\\end{equation}\n",
    "\\begin{equation}x_3+2x_4=0\\end{equation}\n",
    "\n"
   ]
  },
  {
   "cell_type": "markdown",
   "metadata": {},
   "source": [
    "### The typical R\n",
    "\n",
    "\\begin{equation}\n",
    "R=\\begin{vmatrix}I&F\\\\0&0\\end{vmatrix}\n",
    "\\end{equation}\n",
    "\n",
    "I are the the pivot columns and F are the free columns.\n",
    "\n",
    "The for Rx=0, the special solutions N:\n",
    "\n",
    "\\begin{equation}\n",
    "N=\\begin{vmatrix}-F\\\\I\\end{vmatrix}\n",
    "\\end{equation}\n",
    "\n",
    "-F corresponds to the pivot variables and I correspond to the free variables."
   ]
  },
  {
   "cell_type": "markdown",
   "metadata": {},
   "source": [
    "### Another example\n",
    "\n",
    "Let's take the transpose of the A above, so now \n",
    "\n",
    "\\begin{equation}A=\n",
    "\\begin{vmatrix}1&2&3\\\\2&4&6\\\\2&6&8\\\\2&8&10\\end{vmatrix}\n",
    "\\end{equation}"
   ]
  },
  {
   "cell_type": "markdown",
   "metadata": {},
   "source": [
    "Elimination:\n",
    "\n",
    "\\begin{vmatrix}1&2&3\\\\0&0&0\\\\0&2&2\\\\0&4&4\\end{vmatrix}\n",
    "\n",
    "Row exchange and keep going:\n",
    "\n",
    "\\begin{equation}\n",
    "U = \\begin{vmatrix}1&2&3\\\\0&2&2\\\\0&0&0\\\\0&0&0\\end{vmatrix}\n",
    "\\end{equation}"
   ]
  },
  {
   "cell_type": "markdown",
   "metadata": {},
   "source": [
    "So the rank is 2, so there will be 1 special solution.\n",
    "\n",
    "Let's get R:\n",
    "\n",
    "\\begin{equation}\n",
    "R = \\begin{vmatrix}1&0&1\\\\0&1&1\\\\0&0&0\\\\0&0&0\\end{vmatrix}\n",
    "\\end{equation}\n",
    "\n",
    "So get x from -F: \\begin{equation}\n",
    "x = c\\begin{vmatrix}-1\\\\-1\\\\1\\end{vmatrix}\n",
    "\\end{equation}"
   ]
  },
  {
   "cell_type": "code",
   "execution_count": null,
   "metadata": {},
   "outputs": [],
   "source": []
  }
 ],
 "metadata": {
  "kernelspec": {
   "display_name": "Python 3",
   "language": "python",
   "name": "python3"
  },
  "language_info": {
   "codemirror_mode": {
    "name": "ipython",
    "version": 3
   },
   "file_extension": ".py",
   "mimetype": "text/x-python",
   "name": "python",
   "nbconvert_exporter": "python",
   "pygments_lexer": "ipython3",
   "version": "3.6.4"
  }
 },
 "nbformat": 4,
 "nbformat_minor": 2
}
