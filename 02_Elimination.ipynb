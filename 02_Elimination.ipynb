{
 "cells": [
  {
   "cell_type": "markdown",
   "metadata": {},
   "source": [
    "\n",
    "## Elimination\n",
    "\n",
    "The is the way that every bits of software solve linear equations.\n",
    "\n",
    "Equations:\n",
    "\n",
    "\\begin{equation*}x+2y+1z=2\\end{equation*}\n",
    "\\begin{equation*}3+8y+z=12\\end{equation*}\n",
    "\\begin{equation*}4y+z=2\\end{equation*}\n",
    "\n",
    "So we get the matrix:\n",
    "\n",
    "\\begin{equation*}A = \\begin{vmatrix}1 & 2 & 1 \\\\ 3 & 8 & 1 \\\\ 0 & 4 & 1\\end{vmatrix}\\end{equation*}\n",
    "\n",
    "Step 1: Multiply row 1 by 3 and then substract from row 2:\n",
    "\\begin{vmatrix}1 & 2 & 1 \\\\ 0 & 2 & -2 \\\\ 0 & 4 & 1\\end{vmatrix}\n",
    "\n",
    "Step 2: This step should be looking at row 3 column 1 and if it's not 0, do the same thing as the previous step to change it to 0.\n",
    "\n",
    "Step 3: Then clean up row 3, column 2:\n",
    "\\begin{vmatrix}1 & 2 & 1 \\\\ 0 & 2 & -2 \\\\ 0 & 0 & 5\\end{vmatrix}\n",
    "\n",
    "So now we get 3 pivots (1,1), (2,2), (3,3).\n",
    "\n",
    "#### NOTE\n",
    "If there is a 0 in the pivot position, the way to solve it is to exchange rows, by picking some row below that doesn't have 0 in that position.\n",
    "\n",
    "The complete failure happens when a whole row becomes 0.\n",
    "\n",
    "Actually when doing elimination, we should do it for both sides of the equation.\n",
    "\n",
    "Then whole equation Ax = b changes to:\n",
    "\n",
    "\\begin{equation*}Ux = \\begin{vmatrix}1 & 2 & 1 \\\\ 0 & 2 & -2 \\\\ 0 & 0 & 5\\end{vmatrix}\n",
    "= \\begin{vmatrix}2 \\\\ 6  \\\\ -10\\end{vmatrix}\n",
    "\\end{equation*}\n",
    "\n",
    "And the equations are:\n",
    "\n",
    "\\begin{equation*}x+2y+1z=2\\end{equation*}\n",
    "\\begin{equation*}2y-2z=6\\end{equation*}\n",
    "\\begin{equation*}5z=-10\\end{equation*}"
   ]
  },
  {
   "cell_type": "markdown",
   "metadata": {},
   "source": [
    "## Back substitution\n",
    "\n",
    "After getting the upper triangular form, we can solve the equations in reverse order, and then we can z = -2, and then put z into the second equation to get y = 1, and then put z and y into the first equation to get x = 2."
   ]
  },
  {
   "cell_type": "markdown",
   "metadata": {},
   "source": [
    "## Thinking in Matrix\n",
    "\n",
    "The elimination is the row operation.\n",
    "\n",
    "When using a vector times a matrix, we get the combination of the rows (similar to column operation).\n",
    "\n",
    "So the first step of elimination is (multiply row 1 by 3 and then substract from row 2):\n",
    "\n",
    "\\begin{equation*}E_{2,1}A = \\begin{vmatrix}1 & 0 & 0 \\\\ -3 & 1 & 0 \\\\ 0 & 0 & 1\\end{vmatrix}\\begin{vmatrix}1 & 2 & 1 \\\\ 3 & 8 & 1 \\\\ 0 & 4 & 1\\end{vmatrix} = \\begin{vmatrix}1 & 2 & 1 \\\\ 0 & 2 & -2 \\\\ 0 & 4 & 1\\end{vmatrix} = T\\end{equation*}\n",
    "\n",
    "Step 2 will be similar to step 1 if row 3 column 1 is not 0.\n",
    "\n",
    "Step 3 (substract 2 times row 2 from row 3):\n",
    "\n",
    "\\begin{equation*}E_{3,2}T = \\begin{vmatrix}1 & 0 & 0 \\\\ 0 & 1 & 0 \\\\ 0 & -2 & 1\\end{vmatrix}\\begin{vmatrix}1 & 2 & 1 \\\\ 0 & 2 & -2 \\\\ 0 & 4 & 1\\end{vmatrix} = \\begin{vmatrix}1 & 2 & 1 \\\\ 0 & 2 & -2 \\\\ 0 & 0 & 5\\end{vmatrix}\\end{equation*}\n",
    "\n",
    "Idealy we can put those steps together:\n",
    "\n",
    "\\begin{equation*}\n",
    "EA=E_{3,2}(E_{2,1}A)=U\n",
    "\\end{equation*}\n",
    "\n",
    "The parentheses can be moved and we can get:\n",
    "\n",
    "\\begin{equation*}(E_{3,2}E_{2,1})A=U\\end{equation*}\n",
    "\n",
    "This is called the `the associative law`.\n",
    "\n",
    "So \\begin{equation*}E = E_{2,1}E_{3,2}\\end{equation*}\n",
    "\n",
    "We can do the multiplication to get E but there is another better way (A=LU, lecture 4)."
   ]
  },
  {
   "cell_type": "markdown",
   "metadata": {},
   "source": [
    "## Inverses\n",
    "\n",
    "Let's try to find a matrix that undoes step 1.\n",
    "\n",
    "The step was `multiply row 1 by 3 and then substract from row 2`, so the inverse step is `add 3 times row 1 to row 2`,\n",
    "so looks like it's\n",
    "\\begin{equation*}\n",
    "\\begin{vmatrix}1 & 0 & 0 \\\\ 3 & 1 & 0 \\\\ 0 & 0 & 1\\end{vmatrix}\\begin{vmatrix}1 & 0 & 0 \\\\ -3 & 1 & 0 \\\\ 0 & 0 & 1\\end{vmatrix} = \\begin{vmatrix}1 & 0 & 0 \\\\ 0 & 1 & 0 \\\\ 0 & 0 & 1\\end{vmatrix}\n",
    "\\end{equation*}\n",
    "\n",
    "\n",
    "We will keep this topic in the next lecture."
   ]
  },
  {
   "cell_type": "markdown",
   "metadata": {},
   "source": [
    "## Permutaion matrix\n",
    "\n",
    "We can also use matrix to do row exchange.\n",
    "\n",
    "Example, change the two rows in A:\n",
    "\n",
    "\\begin{equation*}PA = \\begin{vmatrix}0 & 1\\\\ 1 & 0\\end{vmatrix}\\begin{vmatrix}a & b\\\\ c & d\\end{vmatrix} = \\begin{vmatrix}c & d\\\\ a & b\\end{vmatrix}\\end{equation*}\n",
    "\n",
    "\n",
    "Suppose we want to exchange the columns instead, the permutaion matrix is on the right.\n",
    "\n",
    "\\begin{equation*}AP = \\begin{vmatrix}a & b\\\\ c & d\\end{vmatrix}\\begin{vmatrix}0 & 1\\\\ 1 & 0\\end{vmatrix} = \\begin{vmatrix}b & a\\\\ d & c\\end{vmatrix}\\end{equation*}\n",
    "\n",
    "`The commutative law` is false:\n",
    "\n",
    "\\begin{equation*}AB \\neq BA\\end{equation*}\n",
    "\n",
    "There will be more discussion around this in lecture 4 and 5."
   ]
  },
  {
   "cell_type": "code",
   "execution_count": null,
   "metadata": {},
   "outputs": [],
   "source": []
  }
 ],
 "metadata": {
  "kernelspec": {
   "display_name": "Python 3",
   "language": "python",
   "name": "python3"
  },
  "language_info": {
   "codemirror_mode": {
    "name": "ipython",
    "version": 3
   },
   "file_extension": ".py",
   "mimetype": "text/x-python",
   "name": "python",
   "nbconvert_exporter": "python",
   "pygments_lexer": "ipython3",
   "version": "3.6.4"
  }
 },
 "nbformat": 4,
 "nbformat_minor": 2
}
