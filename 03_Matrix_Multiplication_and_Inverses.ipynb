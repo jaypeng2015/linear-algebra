{
 "cells": [
  {
   "cell_type": "markdown",
   "metadata": {},
   "source": [
    "# Matrix Multiplication\n",
    "\n",
    "Say we have an equation of matrix multiplication:\n",
    "\n",
    "\\begin{equation*}A_{m \\times n}B_{n \\times p}=C_{m \\times p}\\end{equation*}\n",
    "\n",
    "Note that the number of columns of A has to equal to number of rows of B."
   ]
  },
  {
   "cell_type": "code",
   "execution_count": 19,
   "metadata": {},
   "outputs": [
    {
     "name": "stdout",
     "output_type": "stream",
     "text": [
      "(1, 2)\n",
      "(2, 1)\n",
      "[[11]]\n",
      "(1, 1)\n"
     ]
    }
   ],
   "source": [
    "## Example\n",
    "import numpy as np\n",
    "A = np.matrix('1 2') # m * n = 1 * 2\n",
    "print(A.shape)\n",
    "B = np.matrix('3; 4') # n * p = 2 * 1\n",
    "print(B.shape)\n",
    "C = A*B\n",
    "print(C)\n",
    "print(C.shape)"
   ]
  },
  {
   "cell_type": "code",
   "execution_count": 20,
   "metadata": {},
   "outputs": [
    {
     "name": "stdout",
     "output_type": "stream",
     "text": [
      "(1, 2)\n",
      "(1, 2)\n"
     ]
    },
    {
     "ename": "ValueError",
     "evalue": "shapes (1,2) and (1,2) not aligned: 2 (dim 1) != 1 (dim 0)",
     "output_type": "error",
     "traceback": [
      "\u001b[0;31m---------------------------------------------------------------------------\u001b[0m",
      "\u001b[0;31mValueError\u001b[0m                                Traceback (most recent call last)",
      "\u001b[0;32m<ipython-input-20-2219891f70f0>\u001b[0m in \u001b[0;36m<module>\u001b[0;34m()\u001b[0m\n\u001b[1;32m      5\u001b[0m \u001b[0mB\u001b[0m \u001b[0;34m=\u001b[0m \u001b[0mnp\u001b[0m\u001b[0;34m.\u001b[0m\u001b[0mmatrix\u001b[0m\u001b[0;34m(\u001b[0m\u001b[0;34m'1 2'\u001b[0m\u001b[0;34m)\u001b[0m \u001b[0;31m# n * p = 2 * 1\u001b[0m\u001b[0;34m\u001b[0m\u001b[0m\n\u001b[1;32m      6\u001b[0m \u001b[0mprint\u001b[0m\u001b[0;34m(\u001b[0m\u001b[0mB\u001b[0m\u001b[0;34m.\u001b[0m\u001b[0mshape\u001b[0m\u001b[0;34m)\u001b[0m\u001b[0;34m\u001b[0m\u001b[0m\n\u001b[0;32m----> 7\u001b[0;31m \u001b[0mC\u001b[0m \u001b[0;34m=\u001b[0m \u001b[0mA\u001b[0m\u001b[0;34m*\u001b[0m\u001b[0mB\u001b[0m\u001b[0;34m\u001b[0m\u001b[0m\n\u001b[0m\u001b[1;32m      8\u001b[0m \u001b[0mprint\u001b[0m\u001b[0;34m(\u001b[0m\u001b[0mC\u001b[0m\u001b[0;34m)\u001b[0m\u001b[0;34m\u001b[0m\u001b[0m\n",
      "\u001b[0;32m~/anaconda3/lib/python3.6/site-packages/numpy/matrixlib/defmatrix.py\u001b[0m in \u001b[0;36m__mul__\u001b[0;34m(self, other)\u001b[0m\n\u001b[1;32m    307\u001b[0m         \u001b[0;32mif\u001b[0m \u001b[0misinstance\u001b[0m\u001b[0;34m(\u001b[0m\u001b[0mother\u001b[0m\u001b[0;34m,\u001b[0m \u001b[0;34m(\u001b[0m\u001b[0mN\u001b[0m\u001b[0;34m.\u001b[0m\u001b[0mndarray\u001b[0m\u001b[0;34m,\u001b[0m \u001b[0mlist\u001b[0m\u001b[0;34m,\u001b[0m \u001b[0mtuple\u001b[0m\u001b[0;34m)\u001b[0m\u001b[0;34m)\u001b[0m \u001b[0;34m:\u001b[0m\u001b[0;34m\u001b[0m\u001b[0m\n\u001b[1;32m    308\u001b[0m             \u001b[0;31m# This promotes 1-D vectors to row vectors\u001b[0m\u001b[0;34m\u001b[0m\u001b[0;34m\u001b[0m\u001b[0m\n\u001b[0;32m--> 309\u001b[0;31m             \u001b[0;32mreturn\u001b[0m \u001b[0mN\u001b[0m\u001b[0;34m.\u001b[0m\u001b[0mdot\u001b[0m\u001b[0;34m(\u001b[0m\u001b[0mself\u001b[0m\u001b[0;34m,\u001b[0m \u001b[0masmatrix\u001b[0m\u001b[0;34m(\u001b[0m\u001b[0mother\u001b[0m\u001b[0;34m)\u001b[0m\u001b[0;34m)\u001b[0m\u001b[0;34m\u001b[0m\u001b[0m\n\u001b[0m\u001b[1;32m    310\u001b[0m         \u001b[0;32mif\u001b[0m \u001b[0misscalar\u001b[0m\u001b[0;34m(\u001b[0m\u001b[0mother\u001b[0m\u001b[0;34m)\u001b[0m \u001b[0;32mor\u001b[0m \u001b[0;32mnot\u001b[0m \u001b[0mhasattr\u001b[0m\u001b[0;34m(\u001b[0m\u001b[0mother\u001b[0m\u001b[0;34m,\u001b[0m \u001b[0;34m'__rmul__'\u001b[0m\u001b[0;34m)\u001b[0m \u001b[0;34m:\u001b[0m\u001b[0;34m\u001b[0m\u001b[0m\n\u001b[1;32m    311\u001b[0m             \u001b[0;32mreturn\u001b[0m \u001b[0mN\u001b[0m\u001b[0;34m.\u001b[0m\u001b[0mdot\u001b[0m\u001b[0;34m(\u001b[0m\u001b[0mself\u001b[0m\u001b[0;34m,\u001b[0m \u001b[0mother\u001b[0m\u001b[0;34m)\u001b[0m\u001b[0;34m\u001b[0m\u001b[0m\n",
      "\u001b[0;31mValueError\u001b[0m: shapes (1,2) and (1,2) not aligned: 2 (dim 1) != 1 (dim 0)"
     ]
    }
   ],
   "source": [
    "## Example that can not be multiplied\n",
    "import numpy as np\n",
    "A = np.matrix('1 2') # m * n = 1 * 2\n",
    "print(A.shape)\n",
    "B = np.matrix('1 2') # n * p = 2 * 1\n",
    "print(B.shape)\n",
    "C = A*B\n",
    "print(C)"
   ]
  },
  {
   "cell_type": "markdown",
   "metadata": {},
   "source": [
    "## Solution 1\n",
    "\n",
    "Calculate by element, a row of A times a column of B:\n",
    "\n",
    "\\begin{equation*}c_{ij} = \\sum_{k=1}^na_{ik}b_{kj}\\end{equation*}"
   ]
  },
  {
   "cell_type": "markdown",
   "metadata": {},
   "source": [
    "## Solution 2\n",
    "Calculate by columns: columns of C are combinations of columns of A."
   ]
  },
  {
   "cell_type": "markdown",
   "metadata": {},
   "source": [
    "## Solution 3\n",
    "Calculate by rows: rows of C are combinations of rows of B."
   ]
  },
  {
   "cell_type": "markdown",
   "metadata": {},
   "source": [
    "## Solution 4\n",
    "A cloumn of A times a row of B:\n",
    "\n",
    "Example:\n",
    "\n",
    "\\begin{equation*}A_{m \\times 1}B_{1 \\ times p}=\\begin{vmatrix}2\\\\3\\\\4\\end{vmatrix}\\begin{vmatrix}1&6\\end{vmatrix}=\\begin{vmatrix}2 & 12 \\\\3 & 18\\\\4 & 24\\end{vmatrix}=C_{m \\times p}\\end{equation*}\n",
    "\n",
    "So AB = Sum of (columns of A times rows of B)\n",
    "\n",
    "\\begin{equation*}\\begin{vmatrix}2 & 7\\\\3 & 8\\\\4&9\\end{vmatrix}\\begin{vmatrix}1&6\\\\0&0\\end{vmatrix}=\\begin{vmatrix}2\\\\3\\\\4\\end{vmatrix}\\begin{vmatrix}1&6\\end{vmatrix}+\\begin{vmatrix}7\\\\8\\\\9\\end{vmatrix}\\begin{vmatrix}0&0\\end{vmatrix}=\\begin{vmatrix}2 & 12 \\\\3 & 18\\\\4 & 24\\end{vmatrix}\\end{equation*}"
   ]
  },
  {
   "cell_type": "markdown",
   "metadata": {},
   "source": [
    "## Solution 5\n",
    "Calucation by blocks:\n",
    "\n",
    "\\begin{equation*}AB=\\begin{vmatrix}A_1 & A_2\\\\A_3 & A_4\\end{vmatrix}\\begin{vmatrix}B_1 & B_2\\\\B_3 & B_4\\end{vmatrix}=\\begin{vmatrix}A_1B_1+A_2B_3 & A_1B_2+A_2B_4\\\\A_3B_1+A_4B_3 & A_3B_2+A_4B_4\\end{vmatrix}\\end{equation*}"
   ]
  },
  {
   "cell_type": "markdown",
   "metadata": {},
   "source": [
    "# Inverses\n",
    "\n",
    "If A<sup>-1</sup> exists:\n",
    "    \n",
    "\\begin{equation*}A^{-1}A=I=AA^{-1}\\end{equation*}\n",
    "\n",
    "A is called invertable or nonsingular."
   ]
  },
  {
   "cell_type": "markdown",
   "metadata": {},
   "source": [
    "## When does A have no inverse?\n",
    "\n",
    "Example:\n",
    "\n",
    "\\begin{equation*}A=\\begin{vmatrix}1&3\\\\2&6\\end{vmatrix}\\end{equation*}\n",
    "\n",
    "The matrix won't have an inverse if you can find a non-zero vector x with Ax=0.\n",
    "\n",
    "Prove:\n",
    "\n",
    "If Ax=0, then A<sup>-1</sup>Ax=A<sup>-1</sup>0=0, since A<sup>-1</sup>A should be I, then Ix=0, which means x must be 0."
   ]
  },
  {
   "cell_type": "markdown",
   "metadata": {},
   "source": [
    "## Gauss-Jordan Idea\n",
    "\n",
    "Example:\n",
    "\n",
    "\\begin{equation*}\n",
    "\\begin{vmatrix}1 & 3\\\\2 &7 \\end{vmatrix}\n",
    "\\begin{vmatrix}a & b\\\\c & d \\end{vmatrix} \n",
    "= \\begin{vmatrix}1 & 0\\\\0 &1 \\end{vmatrix}\n",
    "\\end{equation*}"
   ]
  },
  {
   "cell_type": "markdown",
   "metadata": {},
   "source": [
    "Elimination on the increased matrix:\n",
    "\n",
    "\\begin{equation*}\n",
    "\\begin{vmatrix}A & I\\end{vmatrix} =\n",
    "\\begin{vmatrix}1 & 3  & 1 & 0\\\\2 &7  & 0 &1\\end{vmatrix}\n",
    "\\end{equation*}\n",
    "\n",
    "It becomes:\n",
    "\n",
    "\\begin{equation*}\n",
    "\\begin{vmatrix}1 & 3  & 1 & 0\\\\0 & 1 & -2 &1\\end{vmatrix}\n",
    "\\end{equation*}\n",
    "\n",
    "Keep going upwards to eliminate the `3` in row 1:\n",
    "\n",
    "\\begin{equation*}\n",
    "\\begin{vmatrix}1 & 0  & 1 & -3\\\\0 & 1  & -2 &1\\end{vmatrix}\n",
    "=\\begin{vmatrix}I & A^{-1}\\end{vmatrix}\n",
    "\\end{equation*}"
   ]
  },
  {
   "cell_type": "markdown",
   "metadata": {},
   "source": [
    "## What's happening here?\n",
    "\n",
    "Remember the unfinished stuff in lecture 2, we use some matrices `E`s to do the elimination. \n",
    "\n",
    "The overall matrix E to do all the elimination steps (remember matrix can be multiplied by blocks):\n",
    "\\begin{equation*}\n",
    "E\\begin{vmatrix}A & I\\end{vmatrix} = \\begin{vmatrix}I & E\\end{vmatrix}\n",
    "\\end{equation*}\n",
    "\n",
    "Here EA=I tells us E is actually A<sup>-1<sup>.\n",
    "    \n",
    "So the above equation is now:\n",
    "\n",
    "\\begin{equation*}\n",
    "A^{-1}\\begin{vmatrix}A & I\\end{vmatrix} = \\begin{vmatrix}I & A^{-1}\\end{vmatrix}\n",
    "\\end{equation*}\n",
    "\n",
    "This is why Gauss-Jordan idea works."
   ]
  },
  {
   "cell_type": "code",
   "execution_count": null,
   "metadata": {},
   "outputs": [],
   "source": []
  }
 ],
 "metadata": {
  "kernelspec": {
   "display_name": "Python 3",
   "language": "python",
   "name": "python3"
  },
  "language_info": {
   "codemirror_mode": {
    "name": "ipython",
    "version": 3
   },
   "file_extension": ".py",
   "mimetype": "text/x-python",
   "name": "python",
   "nbconvert_exporter": "python",
   "pygments_lexer": "ipython3",
   "version": "3.6.4"
  }
 },
 "nbformat": 4,
 "nbformat_minor": 2
}
