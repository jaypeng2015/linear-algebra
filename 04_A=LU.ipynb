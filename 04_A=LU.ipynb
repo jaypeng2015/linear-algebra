{
 "cells": [
  {
   "cell_type": "markdown",
   "metadata": {},
   "source": [
    "# A=LU\n",
    "\n",
    "## What's inverse of AB?\n",
    "Suppose A is invertable, and B is also invertable. What's the inverse of AB?\n",
    "\n",
    "\\begin{equation}AB(B^{-1}A^{-1})=A(BB^{-1})A^{-1}=AIA^{-1}=AA^{-1}=I\\end{equation}\n",
    "\n",
    "So actually \n",
    "\n",
    "\\begin{equation}(AB)^{-1}=(B^{-1}A^{-1})\\end{equation}"
   ]
  },
  {
   "cell_type": "markdown",
   "metadata": {},
   "source": [
    "## What about transpose?\n",
    "\n",
    "Suppose AA<sup>-1</sup>=I.\n",
    "\n",
    "Transpose both sides:\n",
    "\n",
    "\\begin{equation}(AA^{-1})^T=I^T=I\\end{equation}\n",
    "\n",
    "Since transpose is the exchange of rows and columns, we get:\n",
    "\n",
    "\\begin{equation}(AA^{-1})^T=(A^{-1})^TA^T=I\\end{equation}\n",
    "\n",
    "Skipped the proof here .\n",
    "\n",
    "So the inverse of A<sup>T</sup> is (A<sup>-1</sup>)<sup>T</sup>"
   ]
  },
  {
   "cell_type": "markdown",
   "metadata": {},
   "source": [
    "## Now it's time to find the connection between A and U\n",
    "\n",
    "U is the upper triangluar form after elimination.\n",
    "\n",
    "### Example 1\n",
    "\n",
    "Start from an elimination example:\n",
    "\n",
    "\\begin{equation}EA=\n",
    "\\begin{vmatrix}1 & 0 \\\\ -4 & 1\\end{vmatrix}\n",
    "\\begin{vmatrix}2 & 1 \\\\ 8 & 7\\end{vmatrix}\n",
    "= \\begin{vmatrix}2 & 1 \\\\ 0 & 3\\end{vmatrix} = U\n",
    "\\end{equation}\n",
    "\n",
    "\\begin{equation}E^{-1}EA=IA=A=\n",
    "\\begin{vmatrix}2 & 1 \\\\ 8 & 7\\end{vmatrix}\n",
    "= \\begin{vmatrix}1 & 0 \\\\ 4 & 1\\end{vmatrix}\\begin{vmatrix}2 & 1 \\\\ 0 & 3\\end{vmatrix} = E^{-1}U  = LU\n",
    "\\end{equation}\n",
    "\n",
    "L stands for lower triangular, and it's E<sup>-1</sup> (here we omitted the row exchange)."
   ]
  },
  {
   "cell_type": "markdown",
   "metadata": {},
   "source": [
    "### Example 2\n",
    "\n",
    "Consider 3 by 3:\n",
    "\n",
    "\\begin{equation}E_{32}E_{31}E_{21}A=U\\end{equation}\n",
    "\n",
    "Transform:\n",
    "\n",
    "\\begin{equation}A=E_{21}^{-1}E_{31}^{-1}E_{32}^{-1}U=LU\\end{equation}\n",
    "\n",
    "So here comes the question?\n",
    "\n",
    "Why are we keep using the inverse form? Why it's better?\n",
    "\n",
    "Suppose we have the following E and E<sub>31</sub> is I:\n",
    "\n",
    "\\begin{equation*}E=E_{32}E_{21}=\n",
    "\\begin{vmatrix}1&0&0\\\\0&1&0\\\\0&-5&1\\end{vmatrix}\n",
    "\\begin{vmatrix}1&0&0\\\\-2&1&0\\\\0&0&1\\end{vmatrix} =\n",
    "\\begin{vmatrix}1&0&0\\\\-2&1&0\\\\10&-5&1\\end{vmatrix}\n",
    "\\end{equation*}\n",
    "\n",
    "E<sub>32</sub> means 5 times row 2 and substract from row 3, but the result shows it changed row 1, because row 2 has changed by step 1.\n",
    "\n",
    "Now let's see the inverse way:\n",
    "\n",
    "\\begin{equation*}L=E_{21}^{-1}E_{32}^{^-1}=\n",
    "\\begin{vmatrix}1&0&0\\\\2&1&0\\\\0&0&1\\end{vmatrix}\n",
    "\\begin{vmatrix}1&0&0\\\\0&1&0\\\\0&5&1\\end{vmatrix}=\n",
    "\\begin{vmatrix}1&0&0\\\\2&1&0\\\\0&5&1\\end{vmatrix}\n",
    "\\end{equation*}\n",
    "\n",
    "So here we can see if we put all the multipliers here, we can get L, there's now extra `10` here."
   ]
  },
  {
   "cell_type": "markdown",
   "metadata": {},
   "source": [
    "## Summary\n",
    "\n",
    "For A=LU, if there's no row exchange, multiplies go directly into L."
   ]
  },
  {
   "cell_type": "markdown",
   "metadata": {},
   "source": [
    "## Question\n",
    "\n",
    "How many operations required for a n by n matrix to do the elimination?\n",
    "(Time complexity)\n",
    "\n",
    "If we say an operation is a multiplication and a substraction for an eliment. \n",
    "\n",
    "Then the first step will need n*(n-1) operations, (n columns and n-1 rows), so roughly n<sup>2</sup>.\n",
    "\n",
    "Similarly, the second step cost roughly (n-1)<sup>2</sup>.\n",
    "\n",
    "So the time complexity is:\n",
    "\n",
    "\\begin{equation}n^2+(n-1)^2++(n-2)^2...+2^2+1^2=\\frac{n(2n+1)(n+1)}6\\end{equation}\n",
    "\n",
    "Which is roughly n<sup>3</sup>/3.\n",
    "\n",
    "When solving Ax=b, there's elimination to the b as well, which takes roughly n<sup>2</sup> operations."
   ]
  },
  {
   "cell_type": "markdown",
   "metadata": {},
   "source": [
    "# Permutations\n",
    "\n",
    "Now if we allow row exchanges, then we need to use permutation matrices which have been mentioned in lecture 2.\n",
    "\n",
    "Let's take a look at all permutation matrices in 3 by 3 case."
   ]
  },
  {
   "cell_type": "markdown",
   "metadata": {},
   "source": [
    "\\begin{align}\n",
    "\\begin{vmatrix}1&0&0\\\\0&1&0\\\\0&0&1\\\\\\end{vmatrix},\n",
    "\\begin{vmatrix}0&1&0\\\\1&0&0\\\\0&0&1\\\\\\end{vmatrix},\n",
    "\\begin{vmatrix}1&0&0\\\\0&0&1\\\\0&1&0\\\\\\end{vmatrix}\n",
    "\\end{align}\n",
    "\\begin{align}\n",
    "\\begin{vmatrix}0&0&1\\\\0&1&0\\\\1&0&0\\\\\\end{vmatrix},\n",
    "\\begin{vmatrix}0&1&0\\\\0&0&1\\\\1&0&0\\\\\\end{vmatrix},\n",
    "\\begin{vmatrix}0&0&1\\\\1&0&0\\\\0&1&0\\\\\\end{vmatrix}\n",
    "\\end{align}"
   ]
  },
  {
   "cell_type": "markdown",
   "metadata": {},
   "source": [
    "Some facts:\n",
    "\n",
    "\\begin{equation}P^{-1}=P^T\\end{equation}\n",
    "\n",
    "And the number of permutations for a square matrix is \\begin{equation}A_n^n=n!\\end{equation}"
   ]
  },
  {
   "cell_type": "code",
   "execution_count": null,
   "metadata": {},
   "outputs": [],
   "source": []
  }
 ],
 "metadata": {
  "kernelspec": {
   "display_name": "Python 3",
   "language": "python",
   "name": "python3"
  },
  "language_info": {
   "codemirror_mode": {
    "name": "ipython",
    "version": 3
   },
   "file_extension": ".py",
   "mimetype": "text/x-python",
   "name": "python",
   "nbconvert_exporter": "python",
   "pygments_lexer": "ipython3",
   "version": "3.6.4"
  }
 },
 "nbformat": 4,
 "nbformat_minor": 2
}
