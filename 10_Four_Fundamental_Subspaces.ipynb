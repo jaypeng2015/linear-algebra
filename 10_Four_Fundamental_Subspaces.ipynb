{
 "cells": [
  {
   "cell_type": "markdown",
   "metadata": {},
   "source": [
    "# Four fundamental subspaces\n",
    "\n",
    "For a m*n matrix A, the 4 fundamental subspaces are:\n",
    " - The column space **C(A)**\n",
    "     - the space is in R<sup>m</sup>\n",
    "     - the dimention is the rank `r`\n",
    "     - one of the basis will be the pivot columns\n",
    " - The null space **N(A)**\n",
    "     - the space is in R<sup>n</sup>\n",
    "     - one of the basis will be the special solutions (n-r)\n",
    "     - the dimention is the rank `n-r`\n",
    " - The row space **C(A<sup>T</sup>)** \n",
    "     - keep consistancy by using column operations \n",
    "     - the space is in R<sup>m</sup>\n",
    "     - the dimention is the rank `r`\n",
    " - The null space of A<sup>T</sup> **N(A<sup>T</sup>)** \n",
    "     - the left null space of A\n",
    "     - the space is in R<sup>n</sup>\n",
    "     - the dimention is the rank `m-r`"
   ]
  },
  {
   "cell_type": "markdown",
   "metadata": {},
   "source": [
    "## Example 1 - How to get the basis of a row space\n",
    "\n",
    "\\begin{equation*}\n",
    "A =  \\begin{vmatrix}\n",
    "1 & 2 & 3 & 1 \\\\\n",
    "1 & 1 & 2 & 1 \\\\\n",
    "1 & 2 & 3 & 1 \\\\\n",
    "\\end{vmatrix}\n",
    "\\end{equation*}\n",
    "\n",
    "After elimination and row reduction:\n",
    "\n",
    "\\begin{equation*}\n",
    "R =  \\begin{vmatrix}\n",
    "1 & 0 & 1 & 1 \\\\\n",
    "0 & 1 & 1 & 0 \\\\\n",
    "0 & 0 & 0 & 0 \\\\\n",
    "\\end{vmatrix}\n",
    "\\end{equation*}\n",
    "\n",
    "Column Space is different: \\begin{equation*}C(A) \\neq C(R)\\end{equation*}\n",
    "Row Space is the same: \\begin{equation*}C(A^T) = C(R^T)\\end{equation*} \n",
    "The basis of the row space is the first r (rank, here is 2) rows of R.\n",
    "This is simply because the rows of are linear combinations of rows of A (through elimination and row reduction), so the space is unchanged."
   ]
  },
  {
   "cell_type": "markdown",
   "metadata": {},
   "source": [
    "## Example 2 - Why calling N(A<sup>T</sup>) `The left null space`\n",
    "\n",
    "For \\begin{equation*}A^Ty = 0\\end{equation*}\n",
    "It can be transformed to \\begin{equation*}A^Ty = (A^Ty)^T = y^TA^{TT} = y^TA = 0^T = 0\\end{equation*}\n",
    "This is why it's called `left null space`."
   ]
  },
  {
   "cell_type": "markdown",
   "metadata": {},
   "source": [
    "## Example 3 - How to get the basis of N(A<sup>T</sup>) \n",
    "\n",
    "The Gauss Jordan Idea:\n",
    "\n",
    "\\begin{equation*}rref[A_{m \\times n} | I_{m \\times m}] = [R_{m \\times n} | E_{m \\times m}] = E[A_{m \\times n} | I_{m \\times m}]\\end{equation*}\n",
    "\n",
    "Thus\n",
    "\n",
    "\\begin{equation*}\n",
    "A =  \\begin{vmatrix}\n",
    "1 & 2 & 3 & 1 & | & 1 & 0 & 0\\\\\n",
    "1 & 1 & 2 & 1 & | & 0 & 1 & 0\\\\\n",
    "1 & 2 & 3 & 1 & | & 0 & 0 & 1\\\\\n",
    "\\end{vmatrix}\n",
    "\\end{equation*}\n",
    "\n",
    "After elimination and row reduction:\n",
    "\n",
    "\\begin{equation*}\n",
    "R =  \\begin{vmatrix}\n",
    "1 & 0 & 1 & 1 & | & -1 & 2 & 0\\\\\n",
    "0 & 1 & 1 & 0 & | & 1 & -1 & 0\\\\\n",
    "0 & 0 & 0 & 0 & | & -1 & 0 & 1\\\\\n",
    "\\end{vmatrix}\n",
    "\\end{equation*}"
   ]
  },
  {
   "cell_type": "markdown",
   "metadata": {},
   "source": [
    "So\n",
    "\\begin{equation*}\n",
    "EA =  \\begin{vmatrix}\n",
    "-1 & 2 & 0 \\\\\n",
    "1 & -1 & 0 \\\\\n",
    "-1 & 0 & 1 \\\\\n",
    "\\end{vmatrix}\\begin{vmatrix}\n",
    "1 & 2 & 3 & 1 \\\\\n",
    "1 & 1 & 2 & 1 \\\\\n",
    "1 & 2 & 3 & 1 \\\\\n",
    "\\end{vmatrix} = \\begin{vmatrix}\n",
    "1 & 0 & 1 & 1 \\\\\n",
    "0 & 1 & 1 & 0 \\\\\n",
    "0 & 0 & 0 & 0 \\\\\n",
    "\\end{vmatrix} = R\n",
    "\\end{equation*}\n",
    "Then the basis of the null space is the the rows of E that produces the `0` rows. Here is \\begin{vmatrix}\n",
    "-1 & 0 & 1\n",
    "\\end{vmatrix}"
   ]
  },
  {
   "cell_type": "code",
   "execution_count": null,
   "metadata": {},
   "outputs": [],
   "source": []
  },
  {
   "cell_type": "code",
   "execution_count": null,
   "metadata": {},
   "outputs": [],
   "source": []
  }
 ],
 "metadata": {
  "kernelspec": {
   "display_name": "Python 3",
   "language": "python",
   "name": "python3"
  },
  "language_info": {
   "codemirror_mode": {
    "name": "ipython",
    "version": 3
   },
   "file_extension": ".py",
   "mimetype": "text/x-python",
   "name": "python",
   "nbconvert_exporter": "python",
   "pygments_lexer": "ipython3",
   "version": "3.6.4"
  }
 },
 "nbformat": 4,
 "nbformat_minor": 2
}
