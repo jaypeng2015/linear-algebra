{
 "cells": [
  {
   "cell_type": "markdown",
   "metadata": {},
   "source": [
    "# Graph\n",
    "\n",
    "A graph has nodes and edges. The example below is a directed graph which means the edges have directions."
   ]
  },
  {
   "cell_type": "code",
   "execution_count": 52,
   "metadata": {},
   "outputs": [
    {
     "data": {
      "image/png": "[encoded data removed]",
      "text/plain": [
       "<matplotlib.figure.Figure at 0x151791a860>"
      ]
     },
     "metadata": {},
     "output_type": "display_data"
    }
   ],
   "source": [
    "import matplotlib.pyplot as plt\n",
    "\n",
    "import networkx as nx\n",
    "\n",
    "G=nx.DiGraph()\n",
    "G.add_nodes_from([1,2,3,4])\n",
    "G.add_edge(1, 2, current='y1')\n",
    "G.add_edge(2, 3, current='y2')\n",
    "G.add_edge(1, 3, current='y3')\n",
    "G.add_edge(1, 4, current='y4')\n",
    "G.add_edge(3, 4, current='y5')\n",
    "fixed_positions = {1:(0,0),2:(-1,-1),3:(1,-1),4:(2,0)}\n",
    "fixed_nodes = fixed_positions.keys()\n",
    "pos = nx.spring_layout(G,pos=fixed_positions, fixed = fixed_nodes)\n",
    "nx.draw(G, pos, with_labels=True, font_weight='bold')\n"
   ]
  },
  {
   "cell_type": "markdown",
   "metadata": {},
   "source": [
    "# Incidence Matrix\n",
    "\n",
    "If we consider -1 as the edge goes out of a node and 1 as the edge goes into a node, and use rows to represent edges, we can create a matirx from the graph:\n",
    "\n",
    "\\begin{equation}A=\\begin{vmatrix}\n",
    "-1 & 1 & 0 & 0 \\\\\n",
    "0 & -1 & 1 & 0 \\\\\n",
    "-1 & 0 & 1 & 0 \\\\\n",
    "-1 & 0 & 0 & 1 \\\\\n",
    "0 & 0 & -1 & 1 \\\\\n",
    "\\end{vmatrix}\\end{equation}\n",
    "\n",
    "It's constructed with 0, 1 and -1."
   ]
  },
  {
   "cell_type": "markdown",
   "metadata": {},
   "source": [
    "## Ax=0\n",
    "\n",
    "\\begin{equation}A=\\begin{vmatrix}\n",
    "-1 & 1 & 0 & 0 \\\\\n",
    "0 & -1 & 1 & 0 \\\\\n",
    "-1 & 0 & 1 & 0 \\\\\n",
    "-1 & 0 & 0 & 1 \\\\\n",
    "0 & 0 & -1 & 1 \\\\\n",
    "\\end{vmatrix}\\begin{vmatrix}\n",
    "x_1 \\\\\n",
    "x_2 \\\\\n",
    "x_3 \\\\\n",
    "x_4 \\\\\n",
    "\\end{vmatrix}=\\begin{vmatrix}\n",
    "x_2 - x_1 \\\\\n",
    "x_3 - x_2 \\\\\n",
    "x_3 - x_1 \\\\\n",
    "x_4 - x_1 \\\\\n",
    "x_4 - x_3 \\\\\n",
    "\\end{vmatrix}=\\begin{vmatrix}\n",
    "0 \\\\\n",
    "0 \\\\\n",
    "0 \\\\\n",
    "0 \\\\\n",
    "0 \\\\\n",
    "\\end{vmatrix}\\end{equation}\n",
    "\n",
    "If we say x<sub>1</sub>,x<sub>2</sub>,x<sub>3</sub>,x<sub>4</sub> are potentials, then the rows of Ax are the potential differences on the edges.\n",
    "\n",
    "The solution for this equation is `constant potential`: \\begin{equation}x=c\\begin{vmatrix}\n",
    "1 \\\\\n",
    "1 \\\\\n",
    "1 \\\\\n",
    "1 \\\\\n",
    "\\end{vmatrix}\\end{equation}\n",
    "The dimention of N(A) is 1.\n",
    "\n",
    "if we say y<sub>1</sub>,y<sub>2</sub>,y<sub>3</sub>,y<sub>4</sub>,y<sub>5</sub> are currents, then we can see the Ohm's Law: \\begin{equation}CAx=y\\end{equation}, the constanct `C` is the conductance of the edge, one over the resistance."
   ]
  },
  {
   "cell_type": "markdown",
   "metadata": {},
   "source": [
    "## A<sup>T</sup>y=0\n",
    "\n",
    "This is the most fundamental equation is applied mathematics.\n",
    "If we still use the above example, then this equation becomes Kirchoff's Current Law, KCL.\n",
    "\n",
    "The dimention of N(A<sup>T</sup>) is m - r = 5 - 3 = 2.\n",
    "\n",
    "\\begin{equation}A=\\begin{vmatrix}\n",
    "-1 & 0 & -1 & -1 & 0 \\\\\n",
    "1 & -1 & 0 & 0 & 0 \\\\\n",
    "0 & 1 & 1 & 0 & -1 \\\\\n",
    "0 & 0 & 0 & 1 & 1 \\\\\n",
    "\\end{vmatrix}\\begin{vmatrix}\n",
    "y_1 \\\\\n",
    "y_2 \\\\\n",
    "y_3 \\\\\n",
    "y_4 \\\\\n",
    "y_5 \\\\\n",
    "\\end{vmatrix}=\\begin{vmatrix}\n",
    "-y_1 - y_3 - y_4 \\\\\n",
    "y_1 - y_2 \\\\\n",
    "y_2 + y_3 - y5 \\\\\n",
    "y_4 + y_5 \\\\\n",
    "\\end{vmatrix}=\\begin{vmatrix}\n",
    "0 \\\\\n",
    "0 \\\\\n",
    "0 \\\\\n",
    "0 \\\\\n",
    "\\end{vmatrix}\\end{equation}"
   ]
  },
  {
   "cell_type": "code",
   "execution_count": 55,
   "metadata": {},
   "outputs": [
    {
     "data": {
      "text/plain": [
       "{(1, 2): Text(-0.5,-0.5,\"{'current': 'y1'}\"),\n",
       " (1, 3): Text(0.5,-0.5,\"{'current': 'y3'}\"),\n",
       " (1, 4): Text(1,0,\"{'current': 'y4'}\"),\n",
       " (2, 3): Text(0,-1,\"{'current': 'y2'}\"),\n",
       " (3, 4): Text(1.5,-0.5,\"{'current': 'y5'}\")}"
      ]
     },
     "execution_count": 55,
     "metadata": {},
     "output_type": "execute_result"
    },
    {
     "data": {
      "image/png": "[encoded data removed]",
      "text/plain": [
       "<matplotlib.figure.Figure at 0x1517940400>"
      ]
     },
     "metadata": {},
     "output_type": "display_data"
    }
   ],
   "source": [
    "import matplotlib.pyplot as plt\n",
    "\n",
    "import networkx as nx\n",
    "\n",
    "G=nx.DiGraph()\n",
    "G.add_nodes_from([1,2,3,4])\n",
    "G.add_edge(1, 2, current='y1')\n",
    "G.add_edge(2, 3, current='y2')\n",
    "G.add_edge(1, 3, current='y3')\n",
    "G.add_edge(1, 4, current='y4')\n",
    "G.add_edge(3, 4, current='y5')\n",
    "fixed_positions = {1:(0,0),2:(-1,-1),3:(1,-1),4:(2,0)}\n",
    "fixed_nodes = fixed_positions.keys()\n",
    "pos = nx.spring_layout(G,pos=fixed_positions, fixed = fixed_nodes)\n",
    "nx.draw(G, pos, with_labels=True, font_weight='bold')\n",
    "\n",
    "edge_labels=dict([((u,v),d['current']) for u,v,d in G.edges(data=True)])\n",
    "nx.draw_networkx_edge_labels(G,pos, edge_labes=edge_labels)"
   ]
  },
  {
   "cell_type": "markdown",
   "metadata": {},
   "source": [
    "KCL says for each node, currents in equals currents out, the net flow is 0.\n",
    "\n",
    "The simplest basis of N(A<sup>T</sup>) is:\n",
    "\n",
    "\\begin{equation}\\begin{vmatrix}1\\\\1\\\\-1\\\\0\\\\0\\end{vmatrix},\\begin{vmatrix}0\\\\0\\\\1\\\\-1\\\\1\\end{vmatrix}\\end{equation}\n",
    "\n",
    "The two `loops`!"
   ]
  },
  {
   "cell_type": "markdown",
   "metadata": {},
   "source": [
    "## What about C(A<sup>T</sup>)?\n",
    "\n",
    "The dimention is r = 3.\n",
    "Pick all the pivot columns in C(A<sup>T</sup>), it forms another smaller graph with same nodes but different edges.\n",
    "The import thing is there's no loop in the graph! It's a `TREE`."
   ]
  },
  {
   "cell_type": "markdown",
   "metadata": {},
   "source": [
    "\n",
    "\\begin{equation}dim(C(A^T)) = m -r\\end{equation}\n",
    "\n",
    "Because rank = n - 1 (N(A<sup>T</sup>) is one dimentional and the basis is all `1`), this equation is actually\n",
    "\n",
    "\\begin{equation}\\#loops = \\#edges - (\\#nodes - 1)\\end{equation} \n",
    "\n",
    "Rewrite the formula:\n",
    "\n",
    "\\begin{equation} \\#nodes - \\#edges + \\#loops = 1 \\end{equation} \n",
    "This count works for every graph and known as Euler's Formular."
   ]
  },
  {
   "cell_type": "markdown",
   "metadata": {},
   "source": [
    "## Summary\n",
    "\n",
    "Portential differents: e = Ax\n",
    "\n",
    "Currents : y = Ce\n",
    "\n",
    "And we know the KCL: A<sup>T</sup> = 0\n",
    "\n",
    "If we add external current source f, it becomes A<sup>T</sup> = f\n",
    "\n",
    "By putting those above together, we get:\n",
    "\n",
    "\\begin{equation}A^TCAx=f\\end{equation}\n",
    "\n",
    "Please not that A<sup>T</sup>CA is always symmetric."
   ]
  },
  {
   "cell_type": "code",
   "execution_count": null,
   "metadata": {},
   "outputs": [],
   "source": []
  }
 ],
 "metadata": {
  "kernelspec": {
   "display_name": "Python 3",
   "language": "python",
   "name": "python3"
  },
  "language_info": {
   "codemirror_mode": {
    "name": "ipython",
    "version": 3
   },
   "file_extension": ".py",
   "mimetype": "text/x-python",
   "name": "python",
   "nbconvert_exporter": "python",
   "pygments_lexer": "ipython3",
   "version": "3.6.4"
  }
 },
 "nbformat": 4,
 "nbformat_minor": 2
}
